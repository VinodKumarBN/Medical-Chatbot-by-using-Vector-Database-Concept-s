{
 "cells": [
  {
   "cell_type": "code",
   "execution_count": 1,
   "id": "e679aec5",
   "metadata": {},
   "outputs": [
    {
     "name": "stderr",
     "output_type": "stream",
     "text": [
      "c:\\Users\\Hp\\anaconda3\\envs\\mchatbot\\lib\\site-packages\\tqdm\\auto.py:21: TqdmWarning: IProgress not found. Please update jupyter and ipywidgets. See https://ipywidgets.readthedocs.io/en/stable/user_install.html\n",
      "  from .autonotebook import tqdm as notebook_tqdm\n"
     ]
    }
   ],
   "source": [
    "# app_rag_cohere.py\n",
    "import os\n",
    "from dotenv import load_dotenv\n",
    "\n",
    "# LangChain imports (latest packages)\n",
    "from langchain.document_loaders import PyPDFLoader,DirectoryLoader\n",
    "from langchain.text_splitter import RecursiveCharacterTextSplitter\n",
    "from langchain_core.prompts import PromptTemplate\n",
    "from langchain.chains import RetrievalQA\n",
    "\n",
    "# Cohere integration\n",
    "from langchain_cohere import ChatCohere, CohereEmbeddings\n",
    "\n",
    "# Pinecone vector store\n",
    "from langchain_pinecone import PineconeVectorStore, PineconeEmbeddings\n",
    "from pinecone import Pinecone "
   ]
  },
  {
   "cell_type": "code",
   "execution_count": 2,
   "id": "5e639fc8",
   "metadata": {},
   "outputs": [],
   "source": [
    "load_dotenv()\n",
    "COHERE_API_KEY = os.getenv(\"COHERE_API_KEY\")\n",
    "PINECONE_API_KEY = os.getenv(\"PINECONE_API_KEY\")\n",
    "index_name = \"medical-chatbot\"\n",
    " \n",
    "\n",
    "if not COHERE_API_KEY:\n",
    "    raise RuntimeError(\"Set COHERE_API_KEY in .env\")\n",
    "\n",
    "# 1) load & split PDF files\n",
    "from langchain_community.document_loaders import DirectoryLoader\n",
    "\n",
    "loader = DirectoryLoader(r\"C:\\Users\\Hp\\OneDrive\\Desktop\\Medical-Chatbot-by-using-Vector-Database-Concept-s\\data\", glob=\"*.pdf\", loader_cls=PyPDFLoader)\n",
    "docs = loader.load()\n",
    "\n",
    "docs = loader.load()\n",
    "splitter = RecursiveCharacterTextSplitter(chunk_size=1000, chunk_overlap=200)\n",
    "chunks = splitter.split_documents(docs)"
   ]
  },
  {
   "cell_type": "code",
   "execution_count": 3,
   "id": "c33a40b8",
   "metadata": {},
   "outputs": [
    {
     "name": "stdout",
     "output_type": "stream",
     "text": [
      "length of my chunk: 2657\n"
     ]
    }
   ],
   "source": [
    "print(\"length of my chunk:\", len(chunks))"
   ]
  },
  {
   "cell_type": "code",
   "execution_count": 4,
   "id": "428852fa",
   "metadata": {},
   "outputs": [],
   "source": [
    "cohere_emb = CohereEmbeddings(model=\"embed-english-light-v3.0\", cohere_api_key=COHERE_API_KEY)"
   ]
  },
  {
   "cell_type": "code",
   "execution_count": 5,
   "id": "7ffabf91",
   "metadata": {},
   "outputs": [
    {
     "name": "stderr",
     "output_type": "stream",
     "text": [
      "Retrying langchain_cohere.embeddings.CohereEmbeddings.embed_with_retry.<locals>._embed_with_retry in 4.0 seconds as it raised TooManyRequestsError: headers: {'access-control-expose-headers': 'X-Debug-Trace-ID', 'cache-control': 'no-cache, no-store, no-transform, must-revalidate, private, max-age=0', 'content-type': 'application/json', 'expires': 'Thu, 01 Jan 1970 00:00:00 GMT', 'pragma': 'no-cache', 'vary': 'Origin', 'x-accel-expires': '0', 'x-debug-trace-id': '83f27107b23d1b85db1dd2dad3165501', 'x-endpoint-monthly-call-limit': '1000', 'x-trial-endpoint-call-limit': '100', 'x-trial-endpoint-call-remaining': '88', 'date': 'Tue, 02 Sep 2025 16:52:57 GMT', 'content-length': '124', 'x-envoy-upstream-service-time': '55', 'server': 'envoy', 'via': '1.1 google', 'alt-svc': 'h3=\":443\"; ma=2592000,h3-29=\":443\"; ma=2592000'}, status_code: 429, body: {'id': 'd5daaccc-e535-43b6-96b1-5c3a27deaba5', 'message': 'trial token rate limit exceeded, limit is 100000 tokens per minute'}.\n"
     ]
    }
   ],
   "source": [
    "pc = Pinecone(api_key=PINECONE_API_KEY)\n",
    "#index_name = \"medical-chatbot\"\n",
    "index = pc.Index(index_name)\n",
    "\n",
    "vec_store = PineconeVectorStore(index=index, embedding=cohere_emb)\n",
    "\n",
    "# Batch insert documents\n",
    "batch_size = 50\n",
    "for i in range(0, len(chunks), batch_size):\n",
    "    batch = chunks[i:i+batch_size]\n",
    "    vec_store.add_documents(batch)\n"
   ]
  },
  {
   "cell_type": "code",
   "execution_count": 6,
   "id": "8c77a857",
   "metadata": {},
   "outputs": [
    {
     "name": "stdout",
     "output_type": "stream",
     "text": [
      "📘 Medical PDF Chatbot is ready! Type 'exit' to quit.\n",
      "\n"
     ]
    },
    {
     "name": "stderr",
     "output_type": "stream",
     "text": [
      "C:\\Users\\Hp\\AppData\\Local\\Temp\\ipykernel_15616\\1697103079.py:47: LangChainDeprecationWarning: The method `Chain.run` was deprecated in langchain 0.1.0 and will be removed in 1.0. Use :meth:`~invoke` instead.\n",
      "  answer = qa.run(query)\n"
     ]
    },
    {
     "name": "stdout",
     "output_type": "stream",
     "text": [
      "💡 Answer: Diabetes mellitus (DM) is the most common disease of the endocrine system, characterized by abnormally high blood glucose levels. It results from either an absolute deficiency of insulin (type 1 diabetes) or from subnormal target cell response to insulin (insulin resistance) combined with a failure to compensate for this insulin resistance by producing higher concentrations of insulin (relative insulin deficiency) (type 2 diabetes).\n",
      "\n",
      "👋 Goodbye!\n"
     ]
    }
   ],
   "source": [
    "qa_prompt = PromptTemplate(\n",
    "    input_variables=[\"context\", \"question\"],\n",
    "    template=\"\"\"\n",
    "You are a medical assistant. \n",
    "Use ONLY the following context to answer the user's question. \n",
    "If the answer cannot be found in the context, reply with:\n",
    "\"I could not find that information in the provided document.\"\n",
    "\n",
    "Context:\n",
    "{context}\n",
    "\n",
    "Question:\n",
    "{question}\n",
    "\n",
    "Answer:\n",
    "\"\"\",\n",
    ")\n",
    "\n",
    "# 4) Retriever\n",
    "retriever = vec_store.as_retriever(\n",
    "    search_type=\"similarity\",\n",
    "    search_kwargs={\"k\": 4}\n",
    ")\n",
    "\n",
    "# 5) Cohere LLM\n",
    "chat = ChatCohere(\n",
    "    cohere_api_key=COHERE_API_KEY,\n",
    "    model=\"command-a-03-2025\"\n",
    ")\n",
    "\n",
    "# 6) Retrieval QA with custom prompt\n",
    "qa = RetrievalQA.from_chain_type(\n",
    "    llm=chat,\n",
    "    retriever=retriever,\n",
    "    chain_type=\"stuff\",\n",
    "    chain_type_kwargs={\"prompt\": qa_prompt}\n",
    ")\n",
    "\n",
    "# 7) Interactive loop\n",
    "print(\"📘 Medical PDF Chatbot is ready! Type 'exit' to quit.\\n\")\n",
    "while True:\n",
    "    try:\n",
    "        query = input(\"❓ Your question: \")\n",
    "        if query.lower() in [\"exit\", \"quit\", \"q\"]:\n",
    "            print(\"👋 Goodbye!\")\n",
    "            break\n",
    "        answer = qa.run(query)\n",
    "        print(f\"💡 Answer: {answer}\\n\")\n",
    "    except KeyboardInterrupt:\n",
    "        print(\"\\n👋 Goodbye!\")\n",
    "        break"
   ]
  },
  {
   "cell_type": "code",
   "execution_count": null,
   "id": "9e04f220",
   "metadata": {},
   "outputs": [],
   "source": []
  }
 ],
 "metadata": {
  "kernelspec": {
   "display_name": "mchatbot",
   "language": "python",
   "name": "python3"
  },
  "language_info": {
   "codemirror_mode": {
    "name": "ipython",
    "version": 3
   },
   "file_extension": ".py",
   "mimetype": "text/x-python",
   "name": "python",
   "nbconvert_exporter": "python",
   "pygments_lexer": "ipython3",
   "version": "3.10.18"
  }
 },
 "nbformat": 4,
 "nbformat_minor": 5
}
